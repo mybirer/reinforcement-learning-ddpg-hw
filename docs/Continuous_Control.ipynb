{
 "cells": [
  {
   "cell_type": "markdown",
   "metadata": {},
   "source": [
    "# Continuous Control\n",
    "\n",
    "---\n",
    "\n",
    "You are welcome to use this coding environment to train your agent for the project.  Follow the instructions below to get started!\n",
    "\n",
    "### 1. Start the Environment\n",
    "\n",
    "Run the next code cell to install a few packages.  This line will take a few minutes to run!"
   ]
  },
  {
   "cell_type": "code",
   "execution_count": 1,
   "metadata": {},
   "outputs": [
    {
     "name": "stdout",
     "output_type": "stream",
     "text": [
      "\u001b[31mtensorflow 1.7.1 has requirement numpy>=1.13.3, but you'll have numpy 1.12.1 which is incompatible.\u001b[0m\r\n",
      "\u001b[31mipython 6.5.0 has requirement prompt-toolkit<2.0.0,>=1.0.15, but you'll have prompt-toolkit 3.0.14 which is incompatible.\u001b[0m\r\n"
     ]
    }
   ],
   "source": [
    "!pip -q install ./python"
   ]
  },
  {
   "cell_type": "markdown",
   "metadata": {},
   "source": [
    "The environments corresponding to both versions of the environment are already saved in the Workspace and can be accessed at the file paths provided below.  \n",
    "\n",
    "Please select one of the two options below for loading the environment."
   ]
  },
  {
   "cell_type": "code",
   "execution_count": 4,
   "metadata": {},
   "outputs": [
    {
     "name": "stderr",
     "output_type": "stream",
     "text": [
      "INFO:unityagents:\n",
      "'Academy' started successfully!\n",
      "Unity Academy name: Academy\n",
      "        Number of Brains: 1\n",
      "        Number of External Brains : 1\n",
      "        Lesson number : 0\n",
      "        Reset Parameters :\n",
      "\t\tgoal_size -> 5.0\n",
      "\t\tgoal_speed -> 1.0\n",
      "Unity brain name: ReacherBrain\n",
      "        Number of Visual Observations (per agent): 0\n",
      "        Vector Observation space type: continuous\n",
      "        Vector Observation space size (per agent): 33\n",
      "        Number of stacked Vector Observation: 1\n",
      "        Vector Action space type: continuous\n",
      "        Vector Action space size (per agent): 4\n",
      "        Vector Action descriptions: , , , \n"
     ]
    }
   ],
   "source": [
    "from unityagents import UnityEnvironment\n",
    "import numpy as np\n",
    "\n",
    "# select this option to load version 1 (with a single agent) of the environment\n",
    "#env = UnityEnvironment(file_name='/data/Reacher_One_Linux_NoVis/Reacher_One_Linux_NoVis.x86_64')\n",
    "\n",
    "# select this option to load version 2 (with 20 agents) of the environment\n",
    "env = UnityEnvironment(file_name='/data/Reacher_Linux_NoVis/Reacher.x86_64')"
   ]
  },
  {
   "cell_type": "markdown",
   "metadata": {},
   "source": [
    "Environments contain **_brains_** which are responsible for deciding the actions of their associated agents. Here we check for the first brain available, and set it as the default brain we will be controlling from Python."
   ]
  },
  {
   "cell_type": "code",
   "execution_count": 5,
   "metadata": {},
   "outputs": [],
   "source": [
    "# get the default brain\n",
    "brain_name = env.brain_names[0]\n",
    "brain = env.brains[brain_name]"
   ]
  },
  {
   "cell_type": "markdown",
   "metadata": {},
   "source": [
    "### 2. Examine the State and Action Spaces\n",
    "\n",
    "Run the code cell below to print some information about the environment."
   ]
  },
  {
   "cell_type": "code",
   "execution_count": 4,
   "metadata": {},
   "outputs": [
    {
     "name": "stdout",
     "output_type": "stream",
     "text": [
      "Number of agents: 20\n",
      "Size of each action: 4\n",
      "There are 20 agents. Each observes a state with length: 33\n",
      "The state for the first agent looks like: [  0.00000000e+00  -4.00000000e+00   0.00000000e+00   1.00000000e+00\n",
      "  -0.00000000e+00  -0.00000000e+00  -4.37113883e-08   0.00000000e+00\n",
      "   0.00000000e+00   0.00000000e+00   0.00000000e+00   0.00000000e+00\n",
      "   0.00000000e+00   0.00000000e+00  -1.00000000e+01   0.00000000e+00\n",
      "   1.00000000e+00  -0.00000000e+00  -0.00000000e+00  -4.37113883e-08\n",
      "   0.00000000e+00   0.00000000e+00   0.00000000e+00   0.00000000e+00\n",
      "   0.00000000e+00   0.00000000e+00   5.75471878e+00  -1.00000000e+00\n",
      "   5.55726624e+00   0.00000000e+00   1.00000000e+00   0.00000000e+00\n",
      "  -1.68164849e-01]\n"
     ]
    }
   ],
   "source": [
    "# reset the environment\n",
    "env_info = env.reset(train_mode=True)[brain_name]\n",
    "\n",
    "# number of agents\n",
    "num_agents = len(env_info.agents)\n",
    "print('Number of agents:', num_agents)\n",
    "\n",
    "# size of each action\n",
    "action_size = brain.vector_action_space_size\n",
    "print('Size of each action:', action_size)\n",
    "\n",
    "# examine the state space \n",
    "states = env_info.vector_observations\n",
    "state_size = states.shape[1]\n",
    "print('There are {} agents. Each observes a state with length: {}'.format(states.shape[0], state_size))\n",
    "print('The state for the first agent looks like:', states[0])"
   ]
  },
  {
   "cell_type": "markdown",
   "metadata": {},
   "source": [
    "### 3. Take Random Actions in the Environment\n",
    "\n",
    "In the next code cell, you will learn how to use the Python API to control the agent and receive feedback from the environment.\n",
    "\n",
    "Note that **in this coding environment, you will not be able to watch the agents while they are training**, and you should set `train_mode=True` to restart the environment."
   ]
  },
  {
   "cell_type": "code",
   "execution_count": null,
   "metadata": {},
   "outputs": [],
   "source": [
    "env_info = env.reset(train_mode=True)[brain_name]      # reset the environment    \n",
    "states = env_info.vector_observations                  # get the current state (for each agent)\n",
    "scores = np.zeros(num_agents)                          # initialize the score (for each agent)\n",
    "while True:\n",
    "    actions = np.random.randn(num_agents, action_size) # select an action (for each agent)\n",
    "    actions = np.clip(actions, -1, 1)                  # all actions between -1 and 1\n",
    "    env_info = env.step(actions)[brain_name]           # send all actions to tne environment\n",
    "    next_states = env_info.vector_observations         # get next state (for each agent)\n",
    "    rewards = env_info.rewards                         # get reward (for each agent)\n",
    "    dones = env_info.local_done                        # see if episode finished\n",
    "    scores += env_info.rewards                         # update the score (for each agent)\n",
    "    states = next_states                               # roll over states to next time step\n",
    "    if np.any(dones):                                  # exit loop if episode finished\n",
    "        break\n",
    "print('Total score (averaged over agents) this episode: {}'.format(np.mean(scores)))"
   ]
  },
  {
   "cell_type": "markdown",
   "metadata": {},
   "source": [
    "When finished, you can close the environment."
   ]
  },
  {
   "cell_type": "code",
   "execution_count": null,
   "metadata": {},
   "outputs": [],
   "source": [
    "env.close()"
   ]
  },
  {
   "cell_type": "markdown",
   "metadata": {},
   "source": [
    "### 4. It's Your Turn!\n",
    "\n",
    "Now it's your turn to train your own agent to solve the environment!  A few **important notes**:\n",
    "- When training the environment, set `train_mode=True`, so that the line for resetting the environment looks like the following:\n",
    "```python\n",
    "env_info = env.reset(train_mode=True)[brain_name]\n",
    "```\n",
    "- To structure your work, you're welcome to work directly in this Jupyter notebook, or you might like to start over with a new file!  You can see the list of files in the workspace by clicking on **_Jupyter_** in the top left corner of the notebook.\n",
    "- In this coding environment, you will not be able to watch the agents while they are training.  However, **_after training the agents_**, you can download the saved model weights to watch the agents on your own machine! "
   ]
  },
  {
   "cell_type": "markdown",
   "metadata": {},
   "source": [
    "### 5. DDPG Algorithm training session"
   ]
  },
  {
   "cell_type": "code",
   "execution_count": 9,
   "metadata": {},
   "outputs": [
    {
     "name": "stdout",
     "output_type": "stream",
     "text": [
      "Enter ddpg...\n",
      "\n",
      "Episode:1, Score:0.95, Best Score:0.95, Average Score:0.95, Best Avg Score:0.95\n",
      "Episode:2, Score:0.85, Best Score:0.95, Average Score:0.90, Best Avg Score:0.95\n",
      "Episode:3, Score:0.72, Best Score:0.95, Average Score:0.84, Best Avg Score:0.95\n",
      "Episode:4, Score:0.56, Best Score:0.95, Average Score:0.77, Best Avg Score:0.95\n",
      "Episode:5, Score:0.75, Best Score:0.95, Average Score:0.77, Best Avg Score:0.95\n",
      "Episode:6, Score:1.37, Best Score:1.37, Average Score:0.87, Best Avg Score:0.95\n",
      "Episode:7, Score:1.64, Best Score:1.64, Average Score:0.98, Best Avg Score:0.98\n",
      "Episode:8, Score:2.18, Best Score:2.18, Average Score:1.13, Best Avg Score:1.13\n",
      "Episode:9, Score:2.09, Best Score:2.18, Average Score:1.23, Best Avg Score:1.23\n",
      "Episode:10, Score:2.14, Best Score:2.18, Average Score:1.32, Best Avg Score:1.32\n",
      "Episode:11, Score:2.48, Best Score:2.48, Average Score:1.43, Best Avg Score:1.43\n",
      "Episode:12, Score:3.15, Best Score:3.15, Average Score:1.57, Best Avg Score:1.57\n",
      "Episode:13, Score:4.02, Best Score:4.02, Average Score:1.76, Best Avg Score:1.76\n",
      "Episode:14, Score:5.22, Best Score:5.22, Average Score:2.01, Best Avg Score:2.01\n",
      "Episode:15, Score:5.60, Best Score:5.60, Average Score:2.25, Best Avg Score:2.25\n",
      "Episode:16, Score:6.88, Best Score:6.88, Average Score:2.54, Best Avg Score:2.54\n",
      "Episode:17, Score:8.20, Best Score:8.20, Average Score:2.87, Best Avg Score:2.87\n",
      "Episode:18, Score:10.36, Best Score:10.36, Average Score:3.29, Best Avg Score:3.29\n",
      "Episode:19, Score:9.61, Best Score:10.36, Average Score:3.62, Best Avg Score:3.62\n",
      "Episode:20, Score:11.38, Best Score:11.38, Average Score:4.01, Best Avg Score:4.01\n",
      "Episode:21, Score:11.52, Best Score:11.52, Average Score:4.36, Best Avg Score:4.36\n",
      "Episode:22, Score:12.71, Best Score:12.71, Average Score:4.74, Best Avg Score:4.74\n",
      "Episode:23, Score:13.28, Best Score:13.28, Average Score:5.12, Best Avg Score:5.12\n",
      "Episode:24, Score:12.99, Best Score:13.28, Average Score:5.44, Best Avg Score:5.44\n",
      "Episode:25, Score:13.17, Best Score:13.28, Average Score:5.75, Best Avg Score:5.75\n",
      "Episode:26, Score:14.08, Best Score:14.08, Average Score:6.07, Best Avg Score:6.07\n",
      "Episode:27, Score:15.09, Best Score:15.09, Average Score:6.41, Best Avg Score:6.41\n",
      "Episode:28, Score:14.79, Best Score:15.09, Average Score:6.71, Best Avg Score:6.71\n",
      "Episode:29, Score:14.87, Best Score:15.09, Average Score:6.99, Best Avg Score:6.99\n",
      "Episode:30, Score:15.41, Best Score:15.41, Average Score:7.27, Best Avg Score:7.27\n",
      "Episode:31, Score:14.58, Best Score:15.41, Average Score:7.50, Best Avg Score:7.50\n",
      "Episode:32, Score:17.02, Best Score:17.02, Average Score:7.80, Best Avg Score:7.80\n",
      "Episode:33, Score:16.17, Best Score:17.02, Average Score:8.06, Best Avg Score:8.06\n",
      "Episode:34, Score:16.11, Best Score:17.02, Average Score:8.29, Best Avg Score:8.29\n",
      "Episode:35, Score:16.75, Best Score:17.02, Average Score:8.53, Best Avg Score:8.53\n",
      "Episode:36, Score:16.43, Best Score:17.02, Average Score:8.75, Best Avg Score:8.75\n",
      "Episode:37, Score:16.73, Best Score:17.02, Average Score:8.97, Best Avg Score:8.97\n",
      "Episode:38, Score:17.77, Best Score:17.77, Average Score:9.20, Best Avg Score:9.20\n",
      "Episode:39, Score:18.37, Best Score:18.37, Average Score:9.44, Best Avg Score:9.44\n",
      "Episode:40, Score:17.45, Best Score:18.37, Average Score:9.64, Best Avg Score:9.64\n",
      "Episode:41, Score:17.66, Best Score:18.37, Average Score:9.83, Best Avg Score:9.83\n",
      "Episode:42, Score:19.44, Best Score:19.44, Average Score:10.06, Best Avg Score:10.06\n",
      "Episode:43, Score:17.68, Best Score:19.44, Average Score:10.24, Best Avg Score:10.24\n",
      "Episode:44, Score:20.31, Best Score:20.31, Average Score:10.47, Best Avg Score:10.47\n",
      "Episode:45, Score:19.17, Best Score:20.31, Average Score:10.66, Best Avg Score:10.66\n",
      "Episode:46, Score:20.18, Best Score:20.31, Average Score:10.87, Best Avg Score:10.87\n",
      "Episode:47, Score:20.17, Best Score:20.31, Average Score:11.06, Best Avg Score:11.06\n",
      "Episode:48, Score:18.08, Best Score:20.31, Average Score:11.21, Best Avg Score:11.21\n",
      "Episode:49, Score:18.92, Best Score:20.31, Average Score:11.37, Best Avg Score:11.37\n",
      "Episode:50, Score:20.42, Best Score:20.42, Average Score:11.55, Best Avg Score:11.55\n",
      "Episode:51, Score:19.57, Best Score:20.42, Average Score:11.71, Best Avg Score:11.71\n",
      "Episode:52, Score:18.24, Best Score:20.42, Average Score:11.83, Best Avg Score:11.83\n",
      "Episode:53, Score:20.59, Best Score:20.59, Average Score:12.00, Best Avg Score:12.00\n",
      "Episode:54, Score:20.55, Best Score:20.59, Average Score:12.16, Best Avg Score:12.16\n",
      "Episode:55, Score:19.01, Best Score:20.59, Average Score:12.28, Best Avg Score:12.28\n",
      "Episode:56, Score:19.49, Best Score:20.59, Average Score:12.41, Best Avg Score:12.41\n",
      "Episode:57, Score:20.10, Best Score:20.59, Average Score:12.54, Best Avg Score:12.54\n",
      "Episode:58, Score:19.99, Best Score:20.59, Average Score:12.67, Best Avg Score:12.67\n",
      "Episode:59, Score:21.19, Best Score:21.19, Average Score:12.82, Best Avg Score:12.82\n",
      "Episode:60, Score:20.98, Best Score:21.19, Average Score:12.95, Best Avg Score:12.95\n",
      "Episode:61, Score:21.50, Best Score:21.50, Average Score:13.09, Best Avg Score:13.09\n",
      "Episode:62, Score:20.76, Best Score:21.50, Average Score:13.22, Best Avg Score:13.22\n",
      "Episode:63, Score:20.56, Best Score:21.50, Average Score:13.33, Best Avg Score:13.33\n",
      "Episode:64, Score:21.77, Best Score:21.77, Average Score:13.47, Best Avg Score:13.47\n",
      "Episode:65, Score:21.39, Best Score:21.77, Average Score:13.59, Best Avg Score:13.59\n",
      "Episode:66, Score:21.34, Best Score:21.77, Average Score:13.70, Best Avg Score:13.70\n",
      "Episode:67, Score:19.46, Best Score:21.77, Average Score:13.79, Best Avg Score:13.79\n",
      "Episode:68, Score:18.26, Best Score:21.77, Average Score:13.86, Best Avg Score:13.86\n",
      "Episode:69, Score:20.21, Best Score:21.77, Average Score:13.95, Best Avg Score:13.95\n",
      "Episode:70, Score:21.38, Best Score:21.77, Average Score:14.05, Best Avg Score:14.05\n",
      "Episode:71, Score:22.32, Best Score:22.32, Average Score:14.17, Best Avg Score:14.17\n",
      "Episode:72, Score:23.94, Best Score:23.94, Average Score:14.31, Best Avg Score:14.31\n",
      "Episode:73, Score:22.24, Best Score:23.94, Average Score:14.42, Best Avg Score:14.42\n",
      "Episode:74, Score:22.44, Best Score:23.94, Average Score:14.52, Best Avg Score:14.52\n",
      "Episode:75, Score:23.47, Best Score:23.94, Average Score:14.64, Best Avg Score:14.64\n",
      "Episode:76, Score:24.95, Best Score:24.95, Average Score:14.78, Best Avg Score:14.78\n",
      "Episode:77, Score:23.38, Best Score:24.95, Average Score:14.89, Best Avg Score:14.89\n",
      "Episode:78, Score:23.38, Best Score:24.95, Average Score:15.00, Best Avg Score:15.00\n",
      "Episode:79, Score:23.50, Best Score:24.95, Average Score:15.11, Best Avg Score:15.11\n",
      "Episode:80, Score:23.85, Best Score:24.95, Average Score:15.22, Best Avg Score:15.22\n",
      "Episode:81, Score:24.77, Best Score:24.95, Average Score:15.33, Best Avg Score:15.33\n",
      "Episode:82, Score:24.49, Best Score:24.95, Average Score:15.45, Best Avg Score:15.45\n",
      "Episode:83, Score:25.94, Best Score:25.94, Average Score:15.57, Best Avg Score:15.57\n",
      "Episode:84, Score:25.62, Best Score:25.94, Average Score:15.69, Best Avg Score:15.69\n",
      "Episode:85, Score:24.75, Best Score:25.94, Average Score:15.80, Best Avg Score:15.80\n",
      "Episode:86, Score:26.89, Best Score:26.89, Average Score:15.93, Best Avg Score:15.93\n",
      "Episode:87, Score:26.52, Best Score:26.89, Average Score:16.05, Best Avg Score:16.05\n",
      "Episode:88, Score:26.87, Best Score:26.89, Average Score:16.17, Best Avg Score:16.17\n",
      "Episode:89, Score:25.25, Best Score:26.89, Average Score:16.27, Best Avg Score:16.27\n",
      "Episode:90, Score:24.87, Best Score:26.89, Average Score:16.37, Best Avg Score:16.37\n",
      "Episode:91, Score:27.18, Best Score:27.18, Average Score:16.49, Best Avg Score:16.49\n",
      "Episode:92, Score:28.75, Best Score:28.75, Average Score:16.62, Best Avg Score:16.62\n",
      "Episode:93, Score:29.06, Best Score:29.06, Average Score:16.76, Best Avg Score:16.76\n",
      "Episode:94, Score:30.51, Best Score:30.51, Average Score:16.90, Best Avg Score:16.90\n",
      "Episode:95, Score:29.99, Best Score:30.51, Average Score:17.04, Best Avg Score:17.04\n",
      "Episode:96, Score:29.16, Best Score:30.51, Average Score:17.17, Best Avg Score:17.17\n",
      "Episode:97, Score:30.37, Best Score:30.51, Average Score:17.30, Best Avg Score:17.30\n",
      "Episode:98, Score:31.52, Best Score:31.52, Average Score:17.45, Best Avg Score:17.45\n"
     ]
    },
    {
     "name": "stdout",
     "output_type": "stream",
     "text": [
      "Episode:99, Score:31.03, Best Score:31.52, Average Score:17.58, Best Avg Score:17.58\n",
      "Episode:100, Score:33.82, Best Score:33.82, Average Score:17.75, Best Avg Score:17.75\n",
      "Episode:101, Score:33.94, Best Score:33.94, Average Score:18.08, Best Avg Score:18.08\n",
      "Episode:102, Score:32.57, Best Score:33.94, Average Score:18.39, Best Avg Score:18.39\n",
      "Episode:103, Score:34.31, Best Score:34.31, Average Score:18.73, Best Avg Score:18.73\n",
      "Episode:104, Score:35.79, Best Score:35.79, Average Score:19.08, Best Avg Score:19.08\n",
      "Episode:105, Score:34.45, Best Score:35.79, Average Score:19.42, Best Avg Score:19.42\n",
      "Episode:106, Score:35.24, Best Score:35.79, Average Score:19.76, Best Avg Score:19.76\n",
      "Episode:107, Score:34.27, Best Score:35.79, Average Score:20.08, Best Avg Score:20.08\n",
      "Episode:108, Score:33.87, Best Score:35.79, Average Score:20.40, Best Avg Score:20.40\n",
      "Episode:109, Score:36.12, Best Score:36.12, Average Score:20.74, Best Avg Score:20.74\n",
      "Episode:110, Score:33.78, Best Score:36.12, Average Score:21.06, Best Avg Score:21.06\n",
      "Episode:111, Score:34.85, Best Score:36.12, Average Score:21.38, Best Avg Score:21.38\n",
      "Episode:112, Score:35.75, Best Score:36.12, Average Score:21.71, Best Avg Score:21.71\n",
      "Episode:113, Score:36.35, Best Score:36.35, Average Score:22.03, Best Avg Score:22.03\n",
      "Episode:114, Score:35.42, Best Score:36.35, Average Score:22.33, Best Avg Score:22.33\n",
      "Episode:115, Score:36.16, Best Score:36.35, Average Score:22.64, Best Avg Score:22.64\n",
      "Episode:116, Score:35.54, Best Score:36.35, Average Score:22.93, Best Avg Score:22.93\n",
      "Episode:117, Score:35.80, Best Score:36.35, Average Score:23.20, Best Avg Score:23.20\n",
      "Episode:118, Score:37.32, Best Score:37.32, Average Score:23.47, Best Avg Score:23.47\n",
      "Episode:119, Score:35.96, Best Score:37.32, Average Score:23.73, Best Avg Score:23.73\n",
      "Episode:120, Score:37.16, Best Score:37.32, Average Score:23.99, Best Avg Score:23.99\n",
      "Episode:121, Score:36.78, Best Score:37.32, Average Score:24.24, Best Avg Score:24.24\n",
      "Episode:122, Score:37.40, Best Score:37.40, Average Score:24.49, Best Avg Score:24.49\n",
      "Episode:123, Score:37.57, Best Score:37.57, Average Score:24.73, Best Avg Score:24.73\n",
      "Episode:124, Score:36.74, Best Score:37.57, Average Score:24.97, Best Avg Score:24.97\n",
      "Episode:125, Score:37.19, Best Score:37.57, Average Score:25.21, Best Avg Score:25.21\n",
      "Episode:126, Score:37.69, Best Score:37.69, Average Score:25.45, Best Avg Score:25.45\n",
      "Episode:127, Score:36.28, Best Score:37.69, Average Score:25.66, Best Avg Score:25.66\n",
      "Episode:128, Score:36.34, Best Score:37.69, Average Score:25.88, Best Avg Score:25.88\n",
      "Episode:129, Score:36.77, Best Score:37.69, Average Score:26.09, Best Avg Score:26.09\n",
      "Episode:130, Score:37.41, Best Score:37.69, Average Score:26.31, Best Avg Score:26.31\n",
      "Episode:131, Score:38.05, Best Score:38.05, Average Score:26.55, Best Avg Score:26.55\n",
      "Episode:132, Score:38.06, Best Score:38.06, Average Score:26.76, Best Avg Score:26.76\n",
      "Episode:133, Score:37.09, Best Score:38.06, Average Score:26.97, Best Avg Score:26.97\n",
      "Episode:134, Score:37.21, Best Score:38.06, Average Score:27.18, Best Avg Score:27.18\n",
      "Episode:135, Score:36.38, Best Score:38.06, Average Score:27.38, Best Avg Score:27.38\n",
      "Episode:136, Score:38.09, Best Score:38.09, Average Score:27.59, Best Avg Score:27.59\n",
      "Episode:137, Score:36.71, Best Score:38.09, Average Score:27.79, Best Avg Score:27.79\n",
      "Episode:138, Score:37.84, Best Score:38.09, Average Score:27.99, Best Avg Score:27.99\n",
      "Episode:139, Score:37.37, Best Score:38.09, Average Score:28.18, Best Avg Score:28.18\n",
      "Episode:140, Score:36.91, Best Score:38.09, Average Score:28.38, Best Avg Score:28.38\n",
      "Episode:141, Score:37.46, Best Score:38.09, Average Score:28.58, Best Avg Score:28.58\n",
      "Episode:142, Score:37.16, Best Score:38.09, Average Score:28.75, Best Avg Score:28.75\n",
      "Episode:143, Score:36.45, Best Score:38.09, Average Score:28.94, Best Avg Score:28.94\n",
      "Episode:144, Score:37.84, Best Score:38.09, Average Score:29.12, Best Avg Score:29.12\n",
      "Episode:145, Score:37.02, Best Score:38.09, Average Score:29.29, Best Avg Score:29.29\n",
      "Episode:146, Score:36.13, Best Score:38.09, Average Score:29.45, Best Avg Score:29.45\n",
      "Episode:147, Score:37.31, Best Score:38.09, Average Score:29.63, Best Avg Score:29.63\n",
      "Episode:148, Score:37.09, Best Score:38.09, Average Score:29.82, Best Avg Score:29.82\n",
      "Episode:149, Score:37.75, Best Score:38.09, Average Score:30.00, Best Avg Score:30.00\n",
      "Episode:150, Score:37.45, Best Score:38.09, Average Score:30.17, Best Avg Score:30.17\n",
      "Episode:151, Score:36.39, Best Score:38.09, Average Score:30.34, Best Avg Score:30.34\n",
      "Episode:152, Score:36.98, Best Score:38.09, Average Score:30.53, Best Avg Score:30.53\n",
      "Episode:153, Score:36.91, Best Score:38.09, Average Score:30.69, Best Avg Score:30.69\n",
      "Episode:154, Score:36.79, Best Score:38.09, Average Score:30.86, Best Avg Score:30.86\n",
      "Episode:155, Score:38.47, Best Score:38.47, Average Score:31.05, Best Avg Score:31.05\n",
      "Episode:156, Score:37.53, Best Score:38.47, Average Score:31.23, Best Avg Score:31.23\n",
      "Episode:157, Score:37.53, Best Score:38.47, Average Score:31.40, Best Avg Score:31.40\n",
      "Episode:158, Score:36.86, Best Score:38.47, Average Score:31.57, Best Avg Score:31.57\n",
      "Episode:159, Score:37.90, Best Score:38.47, Average Score:31.74, Best Avg Score:31.74\n",
      "Episode:160, Score:37.51, Best Score:38.47, Average Score:31.91, Best Avg Score:31.91\n",
      "Episode:161, Score:38.40, Best Score:38.47, Average Score:32.07, Best Avg Score:32.07\n",
      "\n",
      "Total training time = 287.3 min\n"
     ]
    }
   ],
   "source": [
    "from ddpg_agent import Agent \n",
    "from collections import deque\n",
    "import torch\n",
    "import torch.nn.functional as F\n",
    "import torch.optim as optim\n",
    "import time\n",
    "from workspace_utils import active_session\n",
    "agent = Agent(state_size=33, action_size=4, random_seed=2)\n",
    "\n",
    "num_agents = len(env_info.agents)\n",
    "def ddpg(n_episodes=2000, max_t=1000):\n",
    "    \n",
    "    print(\"Enter ddpg...\\n\")\n",
    "    scores_deque = deque(maxlen=100)\n",
    "    scores = []\n",
    "    best_score = 0\n",
    "    best_average_score = 0\n",
    "    for i_episode in range(1, n_episodes+1):\n",
    "        \n",
    "        avg_score = 0\n",
    "        # reset the environment\n",
    "        env_info = env.reset(train_mode=True)[brain_name]\n",
    "        #get the number of agents\n",
    "        num_agents = len(env_info.agents)\n",
    "        #get the states vector\n",
    "        states = env_info.vector_observations\n",
    "        #init score agents\n",
    "        scores_agents = np.zeros(num_agents)\n",
    "        score = 0\n",
    "        agent.reset()\n",
    "        for t in range(max_t):\n",
    "            #choose actions\n",
    "            actions = agent.act(states)\n",
    "            # send the actions to the environment\n",
    "            env_info = env.step(actions)[brain_name]\n",
    "            # get the next states\n",
    "            next_states = env_info.vector_observations\n",
    "            # get the rewards\n",
    "            rewards = env_info.rewards\n",
    "            # see if episode has finished\n",
    "            dones = env_info.local_done\n",
    "            agent.step(states, actions, rewards, next_states, dones)\n",
    "            states = next_states\n",
    "            scores_agents += rewards\n",
    "            if np.any(dones):\n",
    "                break\n",
    "        #mean score of 20 agents in this episode\n",
    "        score = np.mean(scores_agents)\n",
    "        scores_deque.append(score)\n",
    "        #\n",
    "        avg_score = np.mean(scores_deque)\n",
    "        scores.append(score)\n",
    "        #refresh the best agent score\n",
    "        if score > best_score:\n",
    "            best_score = score\n",
    "        #refresh the best average score    \n",
    "        if avg_score > best_average_score:\n",
    "            best_average_score = avg_score\n",
    "        \n",
    "        #print current episode\n",
    "        print(\"Episode:{}, Score:{:.2f}, Best Score:{:.2f}, Average Score:{:.2f}, Best Avg Score:{:.2f}\".format(\n",
    "            i_episode, score, best_score, avg_score, best_average_score))\n",
    "        if (avg_score >= 32):\n",
    "            torch.save(agent.actor_local.state_dict(), 'actor_solved.pth')\n",
    "            torch.save(agent.critic_local.state_dict(), 'critic_solved.pth')\n",
    "            break\n",
    "                \n",
    "        \n",
    "            \n",
    "    return scores\n",
    "\n",
    "start = time.time()\n",
    "with active_session():\n",
    "    scores = ddpg()\n",
    "end = time.time()\n",
    "print('\\nTotal training time = {:.1f} min'.format((end-start)/60))"
   ]
  },
  {
   "cell_type": "markdown",
   "metadata": {},
   "source": [
    "### 6. Plot of the training Result"
   ]
  },
  {
   "cell_type": "code",
   "execution_count": 3,
   "metadata": {},
   "outputs": [
    {
     "ename": "NameError",
     "evalue": "name 'np' is not defined",
     "output_type": "error",
     "traceback": [
      "\u001b[0;31m---------------------------------------------------------------------------\u001b[0m",
      "\u001b[0;31mNameError\u001b[0m                                 Traceback (most recent call last)",
      "\u001b[0;32m<ipython-input-3-73f34c78dd2e>\u001b[0m in \u001b[0;36m<module>\u001b[0;34m()\u001b[0m\n\u001b[1;32m      3\u001b[0m \u001b[0mfig\u001b[0m \u001b[0;34m=\u001b[0m \u001b[0mplt\u001b[0m\u001b[0;34m.\u001b[0m\u001b[0mfigure\u001b[0m\u001b[0;34m(\u001b[0m\u001b[0mfigsize\u001b[0m\u001b[0;34m=\u001b[0m\u001b[0;34m(\u001b[0m\u001b[0;36m12\u001b[0m\u001b[0;34m,\u001b[0m \u001b[0;36m10\u001b[0m\u001b[0;34m)\u001b[0m\u001b[0;34m)\u001b[0m\u001b[0;34m\u001b[0m\u001b[0m\n\u001b[1;32m      4\u001b[0m \u001b[0max\u001b[0m \u001b[0;34m=\u001b[0m \u001b[0mfig\u001b[0m\u001b[0;34m.\u001b[0m\u001b[0madd_subplot\u001b[0m\u001b[0;34m(\u001b[0m\u001b[0;36m111\u001b[0m\u001b[0;34m)\u001b[0m\u001b[0;34m\u001b[0m\u001b[0m\n\u001b[0;32m----> 5\u001b[0;31m \u001b[0mplt\u001b[0m\u001b[0;34m.\u001b[0m\u001b[0mplot\u001b[0m\u001b[0;34m(\u001b[0m\u001b[0mnp\u001b[0m\u001b[0;34m.\u001b[0m\u001b[0marange\u001b[0m\u001b[0;34m(\u001b[0m\u001b[0mlen\u001b[0m\u001b[0;34m(\u001b[0m\u001b[0mscores\u001b[0m\u001b[0;34m)\u001b[0m\u001b[0;34m)\u001b[0m\u001b[0;34m,\u001b[0m \u001b[0mscores\u001b[0m\u001b[0;34m)\u001b[0m\u001b[0;34m\u001b[0m\u001b[0m\n\u001b[0m\u001b[1;32m      6\u001b[0m \u001b[0mplt\u001b[0m\u001b[0;34m.\u001b[0m\u001b[0mxlabel\u001b[0m\u001b[0;34m(\u001b[0m\u001b[0;34m'Episode number'\u001b[0m\u001b[0;34m)\u001b[0m\u001b[0;34m\u001b[0m\u001b[0m\n\u001b[1;32m      7\u001b[0m \u001b[0mplt\u001b[0m\u001b[0;34m.\u001b[0m\u001b[0mylabel\u001b[0m\u001b[0;34m(\u001b[0m\u001b[0;34m'Score'\u001b[0m\u001b[0;34m)\u001b[0m\u001b[0;34m\u001b[0m\u001b[0m\n",
      "\u001b[0;31mNameError\u001b[0m: name 'np' is not defined"
     ]
    },
    {
     "data": {
      "image/png": "[encoded data removed]",
      "text/plain": [
       "<matplotlib.figure.Figure at 0x7f1308c2d5c0>"
      ]
     },
     "metadata": {
      "needs_background": "light"
     },
     "output_type": "display_data"
    }
   ],
   "source": [
    "import matplotlib.pyplot as plt\n",
    "%matplotlib inline\n",
    "fig = plt.figure(figsize=(12, 10))\n",
    "ax = fig.add_subplot(111)\n",
    "plt.plot(np.arange(len(scores)), scores)\n",
    "plt.xlabel('Episode number')\n",
    "plt.ylabel('Score')\n",
    "plt.show()"
   ]
  },
  {
   "cell_type": "markdown",
   "metadata": {},
   "source": [
    "### Testing using the trained agent"
   ]
  },
  {
   "cell_type": "code",
   "execution_count": 11,
   "metadata": {},
   "outputs": [
    {
     "name": "stdout",
     "output_type": "stream",
     "text": [
      "Total score (averaged over agents) this episode: 37.14749916968867\n"
     ]
    }
   ],
   "source": [
    "from ddpg_agent import Agent\n",
    "from collections import deque\n",
    "import torch\n",
    "import torch.nn.functional as F\n",
    "import torch.optim as optim\n",
    "env_info = env.reset(train_mode=False)[brain_name]     # reset the environment    \n",
    "states = env_info.vector_observations\n",
    "# get the current state (for each agent)\n",
    "# initialize the score (for each agent)\n",
    "agent = Agent(state_size=33, action_size=4, random_seed=2)\n",
    "num_agents = len(env_info.agents)\n",
    "agent.actor_local.load_state_dict(torch.load('actor_solved.pth'))\n",
    "agent.critic_local.load_state_dict(torch.load('critic_solved.pth'))\n",
    "scores = np.zeros(num_agents) \n",
    "agent.reset()\n",
    "while True:\n",
    "    actions = agent.act(states) # select an action (for each agent)\n",
    "    env_info = env.step(actions)[brain_name]           # send all actions to tne environment\n",
    "    next_states = env_info.vector_observations         # get next state (for each agent)\n",
    "    rewards = env_info.rewards                         # get reward (for each agent)\n",
    "    dones = env_info.local_done                        # see if episode finished\n",
    "    scores += env_info.rewards                         # update the score (for each agent)\n",
    "    states = next_states                               # roll over states to next time step\n",
    "    if np.any(dones):                                  # exit loop if episode finished\n",
    "        break\n",
    "print('Total score (averaged over agents) this episode: {}'.format(np.mean(scores)))"
   ]
  },
  {
   "cell_type": "code",
   "execution_count": null,
   "metadata": {},
   "outputs": [],
   "source": []
  }
 ],
 "metadata": {
  "kernelspec": {
   "display_name": "Python 3",
   "language": "python",
   "name": "python3"
  },
  "language_info": {
   "codemirror_mode": {
    "name": "ipython",
    "version": 3
   },
   "file_extension": ".py",
   "mimetype": "text/x-python",
   "name": "python",
   "nbconvert_exporter": "python",
   "pygments_lexer": "ipython3",
   "version": "3.6.3"
  }
 },
 "nbformat": 4,
 "nbformat_minor": 2
}
